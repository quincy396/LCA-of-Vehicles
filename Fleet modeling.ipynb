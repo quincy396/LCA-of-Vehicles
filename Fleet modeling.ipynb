{
 "cells": [
  {
   "cell_type": "code",
   "execution_count": 1,
   "id": "390473f5",
   "metadata": {},
   "outputs": [],
   "source": [
    "import pandas as pd\n",
    "import numpy as np\n",
    "import matplotlib.pyplot as plt\n",
    "import scipy.interpolate as sp"
   ]
  },
  {
   "cell_type": "code",
   "execution_count": 7,
   "id": "2bee8cad",
   "metadata": {},
   "outputs": [
    {
     "data": {
      "text/html": [
       "<div>\n",
       "<style scoped>\n",
       "    .dataframe tbody tr th:only-of-type {\n",
       "        vertical-align: middle;\n",
       "    }\n",
       "\n",
       "    .dataframe tbody tr th {\n",
       "        vertical-align: top;\n",
       "    }\n",
       "\n",
       "    .dataframe thead th {\n",
       "        text-align: right;\n",
       "    }\n",
       "</style>\n",
       "<table border=\"1\" class=\"dataframe\">\n",
       "  <thead>\n",
       "    <tr style=\"text-align: right;\">\n",
       "      <th></th>\n",
       "      <th>Model Year</th>\n",
       "      <th>Fuel Technology</th>\n",
       "      <th>Vehicle Population</th>\n",
       "    </tr>\n",
       "  </thead>\n",
       "  <tbody>\n",
       "    <tr>\n",
       "      <th>0</th>\n",
       "      <td>Unknown</td>\n",
       "      <td>BEV</td>\n",
       "      <td>6</td>\n",
       "    </tr>\n",
       "    <tr>\n",
       "      <th>1</th>\n",
       "      <td>Unknown</td>\n",
       "      <td>ICE</td>\n",
       "      <td>891</td>\n",
       "    </tr>\n",
       "    <tr>\n",
       "      <th>2</th>\n",
       "      <td>1975</td>\n",
       "      <td>BEV</td>\n",
       "      <td>8</td>\n",
       "    </tr>\n",
       "    <tr>\n",
       "      <th>3</th>\n",
       "      <td>1975</td>\n",
       "      <td>ICE</td>\n",
       "      <td>76187</td>\n",
       "    </tr>\n",
       "    <tr>\n",
       "      <th>4</th>\n",
       "      <td>1976</td>\n",
       "      <td>BEV</td>\n",
       "      <td>1</td>\n",
       "    </tr>\n",
       "    <tr>\n",
       "      <th>...</th>\n",
       "      <td>...</td>\n",
       "      <td>...</td>\n",
       "      <td>...</td>\n",
       "    </tr>\n",
       "    <tr>\n",
       "      <th>84</th>\n",
       "      <td>2020</td>\n",
       "      <td>ICE</td>\n",
       "      <td>80658</td>\n",
       "    </tr>\n",
       "    <tr>\n",
       "      <th>85</th>\n",
       "      <td>2020</td>\n",
       "      <td>PHEV</td>\n",
       "      <td>3483</td>\n",
       "    </tr>\n",
       "    <tr>\n",
       "      <th>86</th>\n",
       "      <td>2021</td>\n",
       "      <td>BEV</td>\n",
       "      <td>73</td>\n",
       "    </tr>\n",
       "    <tr>\n",
       "      <th>87</th>\n",
       "      <td>2021</td>\n",
       "      <td>ICE</td>\n",
       "      <td>1315</td>\n",
       "    </tr>\n",
       "    <tr>\n",
       "      <th>88</th>\n",
       "      <td>2021</td>\n",
       "      <td>PHEV</td>\n",
       "      <td>39</td>\n",
       "    </tr>\n",
       "  </tbody>\n",
       "</table>\n",
       "<p>89 rows × 3 columns</p>\n",
       "</div>"
      ],
      "text/plain": [
       "   Model Year Fuel Technology  Vehicle Population\n",
       "0     Unknown             BEV                   6\n",
       "1     Unknown             ICE                 891\n",
       "2        1975             BEV                   8\n",
       "3        1975             ICE               76187\n",
       "4        1976             BEV                   1\n",
       "..        ...             ...                 ...\n",
       "84       2020             ICE               80658\n",
       "85       2020            PHEV                3483\n",
       "86       2021             BEV                  73\n",
       "87       2021             ICE                1315\n",
       "88       2021            PHEV                  39\n",
       "\n",
       "[89 rows x 3 columns]"
      ]
     },
     "execution_count": 7,
     "metadata": {},
     "output_type": "execute_result"
    }
   ],
   "source": [
    "df = pd.read_csv('BayFleet2020v2.csv')\n",
    "df=df.drop(columns=['Vehicle Category','GVWR Class','MPO'])\n",
    "df"
   ]
  },
  {
   "cell_type": "code",
   "execution_count": 3,
   "id": "3c6bfa69",
   "metadata": {},
   "outputs": [
    {
     "data": {
      "text/html": [
       "<div>\n",
       "<style scoped>\n",
       "    .dataframe tbody tr th:only-of-type {\n",
       "        vertical-align: middle;\n",
       "    }\n",
       "\n",
       "    .dataframe tbody tr th {\n",
       "        vertical-align: top;\n",
       "    }\n",
       "\n",
       "    .dataframe thead th {\n",
       "        text-align: right;\n",
       "    }\n",
       "</style>\n",
       "<table border=\"1\" class=\"dataframe\">\n",
       "  <thead>\n",
       "    <tr style=\"text-align: right;\">\n",
       "      <th></th>\n",
       "      <th>Veh_Tech</th>\n",
       "      <th>2022.0</th>\n",
       "      <th>2023.0</th>\n",
       "      <th>2024.0</th>\n",
       "      <th>2025.0</th>\n",
       "      <th>2026.0</th>\n",
       "      <th>2027.0</th>\n",
       "      <th>2028.0</th>\n",
       "      <th>2029.0</th>\n",
       "      <th>2030.0</th>\n",
       "      <th>2031.0</th>\n",
       "      <th>2032.0</th>\n",
       "      <th>2033.0</th>\n",
       "      <th>2034.0</th>\n",
       "      <th>2035.0</th>\n",
       "    </tr>\n",
       "  </thead>\n",
       "  <tbody>\n",
       "    <tr>\n",
       "      <th>0</th>\n",
       "      <td>LDA-Dsl</td>\n",
       "      <td>7.189155e+04</td>\n",
       "      <td>6.646821e+04</td>\n",
       "      <td>6.080893e+04</td>\n",
       "      <td>5.505971e+04</td>\n",
       "      <td>4.967966e+04</td>\n",
       "      <td>4.450877e+04</td>\n",
       "      <td>3.961583e+04</td>\n",
       "      <td>3.521779e+04</td>\n",
       "      <td>3.125626e+04</td>\n",
       "      <td>2.791827e+04</td>\n",
       "      <td>2.491934e+04</td>\n",
       "      <td>2.240231e+04</td>\n",
       "      <td>2.025132e+04</td>\n",
       "      <td>1.845096e+04</td>\n",
       "    </tr>\n",
       "    <tr>\n",
       "      <th>1</th>\n",
       "      <td>LDA-Elec</td>\n",
       "      <td>1.431606e+06</td>\n",
       "      <td>1.557997e+06</td>\n",
       "      <td>1.670388e+06</td>\n",
       "      <td>1.771326e+06</td>\n",
       "      <td>1.808999e+06</td>\n",
       "      <td>1.839189e+06</td>\n",
       "      <td>1.861406e+06</td>\n",
       "      <td>1.877095e+06</td>\n",
       "      <td>1.887071e+06</td>\n",
       "      <td>1.891682e+06</td>\n",
       "      <td>1.892638e+06</td>\n",
       "      <td>1.889936e+06</td>\n",
       "      <td>1.885332e+06</td>\n",
       "      <td>1.879925e+06</td>\n",
       "    </tr>\n",
       "    <tr>\n",
       "      <th>2</th>\n",
       "      <td>LDA-Gas</td>\n",
       "      <td>2.004080e+07</td>\n",
       "      <td>2.015654e+07</td>\n",
       "      <td>2.019893e+07</td>\n",
       "      <td>2.017053e+07</td>\n",
       "      <td>2.018330e+07</td>\n",
       "      <td>2.021134e+07</td>\n",
       "      <td>2.025129e+07</td>\n",
       "      <td>2.030255e+07</td>\n",
       "      <td>2.036572e+07</td>\n",
       "      <td>2.044111e+07</td>\n",
       "      <td>2.053108e+07</td>\n",
       "      <td>2.063023e+07</td>\n",
       "      <td>2.074003e+07</td>\n",
       "      <td>2.085877e+07</td>\n",
       "    </tr>\n",
       "    <tr>\n",
       "      <th>3</th>\n",
       "      <td>LDA-Phe</td>\n",
       "      <td>4.958398e+05</td>\n",
       "      <td>5.388980e+05</td>\n",
       "      <td>5.769655e+05</td>\n",
       "      <td>6.099502e+05</td>\n",
       "      <td>6.387856e+05</td>\n",
       "      <td>6.646759e+05</td>\n",
       "      <td>6.878436e+05</td>\n",
       "      <td>7.083505e+05</td>\n",
       "      <td>7.265021e+05</td>\n",
       "      <td>7.425039e+05</td>\n",
       "      <td>7.566894e+05</td>\n",
       "      <td>7.690944e+05</td>\n",
       "      <td>7.801314e+05</td>\n",
       "      <td>7.900311e+05</td>\n",
       "    </tr>\n",
       "    <tr>\n",
       "      <th>4</th>\n",
       "      <td>LDT1-Dsl</td>\n",
       "      <td>4.436516e+02</td>\n",
       "      <td>3.917256e+02</td>\n",
       "      <td>3.451041e+02</td>\n",
       "      <td>3.044509e+02</td>\n",
       "      <td>2.588954e+02</td>\n",
       "      <td>9.796264e+01</td>\n",
       "      <td>5.217059e+01</td>\n",
       "      <td>2.665256e+01</td>\n",
       "      <td>9.693067e+00</td>\n",
       "      <td>1.035689e+01</td>\n",
       "      <td>1.097167e+01</td>\n",
       "      <td>1.154021e+01</td>\n",
       "      <td>1.206239e+01</td>\n",
       "      <td>1.254244e+01</td>\n",
       "    </tr>\n",
       "    <tr>\n",
       "      <th>...</th>\n",
       "      <td>...</td>\n",
       "      <td>...</td>\n",
       "      <td>...</td>\n",
       "      <td>...</td>\n",
       "      <td>...</td>\n",
       "      <td>...</td>\n",
       "      <td>...</td>\n",
       "      <td>...</td>\n",
       "      <td>...</td>\n",
       "      <td>...</td>\n",
       "      <td>...</td>\n",
       "      <td>...</td>\n",
       "      <td>...</td>\n",
       "      <td>...</td>\n",
       "      <td>...</td>\n",
       "    </tr>\n",
       "    <tr>\n",
       "      <th>204</th>\n",
       "      <td>LHD1-Gas</td>\n",
       "      <td>2.466857e+05</td>\n",
       "      <td>2.401296e+05</td>\n",
       "      <td>2.325615e+05</td>\n",
       "      <td>2.240826e+05</td>\n",
       "      <td>2.164452e+05</td>\n",
       "      <td>2.087252e+05</td>\n",
       "      <td>2.012540e+05</td>\n",
       "      <td>1.935851e+05</td>\n",
       "      <td>1.858737e+05</td>\n",
       "      <td>1.782733e+05</td>\n",
       "      <td>1.706270e+05</td>\n",
       "      <td>1.627477e+05</td>\n",
       "      <td>1.548220e+05</td>\n",
       "      <td>1.467599e+05</td>\n",
       "    </tr>\n",
       "    <tr>\n",
       "      <th>205</th>\n",
       "      <td>LHD2-Dsl</td>\n",
       "      <td>9.048311e+04</td>\n",
       "      <td>8.845888e+04</td>\n",
       "      <td>8.589142e+04</td>\n",
       "      <td>8.289560e+04</td>\n",
       "      <td>7.995004e+04</td>\n",
       "      <td>7.702694e+04</td>\n",
       "      <td>7.409663e+04</td>\n",
       "      <td>7.118971e+04</td>\n",
       "      <td>6.825707e+04</td>\n",
       "      <td>6.533212e+04</td>\n",
       "      <td>6.240885e+04</td>\n",
       "      <td>5.948309e+04</td>\n",
       "      <td>5.654310e+04</td>\n",
       "      <td>5.357671e+04</td>\n",
       "    </tr>\n",
       "    <tr>\n",
       "      <th>206</th>\n",
       "      <td>LHD2-Elec</td>\n",
       "      <td>NaN</td>\n",
       "      <td>NaN</td>\n",
       "      <td>2.211012e+02</td>\n",
       "      <td>5.641088e+02</td>\n",
       "      <td>1.027755e+03</td>\n",
       "      <td>1.703541e+03</td>\n",
       "      <td>2.595371e+03</td>\n",
       "      <td>3.684491e+03</td>\n",
       "      <td>4.953804e+03</td>\n",
       "      <td>6.391006e+03</td>\n",
       "      <td>7.982185e+03</td>\n",
       "      <td>9.713483e+03</td>\n",
       "      <td>1.157368e+04</td>\n",
       "      <td>1.354666e+04</td>\n",
       "    </tr>\n",
       "    <tr>\n",
       "      <th>207</th>\n",
       "      <td>LHD2-Gas</td>\n",
       "      <td>4.305394e+04</td>\n",
       "      <td>4.123690e+04</td>\n",
       "      <td>3.938593e+04</td>\n",
       "      <td>3.748276e+04</td>\n",
       "      <td>3.573334e+04</td>\n",
       "      <td>3.402283e+04</td>\n",
       "      <td>3.239615e+04</td>\n",
       "      <td>3.080794e+04</td>\n",
       "      <td>2.925164e+04</td>\n",
       "      <td>2.773975e+04</td>\n",
       "      <td>2.622593e+04</td>\n",
       "      <td>2.475896e+04</td>\n",
       "      <td>2.331457e+04</td>\n",
       "      <td>2.187430e+04</td>\n",
       "    </tr>\n",
       "    <tr>\n",
       "      <th>208</th>\n",
       "      <td>total</td>\n",
       "      <td>7.716921e+06</td>\n",
       "      <td>7.805726e+06</td>\n",
       "      <td>7.864091e+06</td>\n",
       "      <td>7.889434e+06</td>\n",
       "      <td>7.911278e+06</td>\n",
       "      <td>7.930891e+06</td>\n",
       "      <td>7.947562e+06</td>\n",
       "      <td>7.960715e+06</td>\n",
       "      <td>7.968675e+06</td>\n",
       "      <td>7.974858e+06</td>\n",
       "      <td>7.977745e+06</td>\n",
       "      <td>7.975637e+06</td>\n",
       "      <td>7.970251e+06</td>\n",
       "      <td>7.959239e+06</td>\n",
       "    </tr>\n",
       "  </tbody>\n",
       "</table>\n",
       "<p>209 rows × 15 columns</p>\n",
       "</div>"
      ],
      "text/plain": [
       "      Veh_Tech        2022.0        2023.0        2024.0        2025.0  \\\n",
       "0      LDA-Dsl  7.189155e+04  6.646821e+04  6.080893e+04  5.505971e+04   \n",
       "1     LDA-Elec  1.431606e+06  1.557997e+06  1.670388e+06  1.771326e+06   \n",
       "2      LDA-Gas  2.004080e+07  2.015654e+07  2.019893e+07  2.017053e+07   \n",
       "3      LDA-Phe  4.958398e+05  5.388980e+05  5.769655e+05  6.099502e+05   \n",
       "4     LDT1-Dsl  4.436516e+02  3.917256e+02  3.451041e+02  3.044509e+02   \n",
       "..         ...           ...           ...           ...           ...   \n",
       "204   LHD1-Gas  2.466857e+05  2.401296e+05  2.325615e+05  2.240826e+05   \n",
       "205   LHD2-Dsl  9.048311e+04  8.845888e+04  8.589142e+04  8.289560e+04   \n",
       "206  LHD2-Elec           NaN           NaN  2.211012e+02  5.641088e+02   \n",
       "207   LHD2-Gas  4.305394e+04  4.123690e+04  3.938593e+04  3.748276e+04   \n",
       "208      total  7.716921e+06  7.805726e+06  7.864091e+06  7.889434e+06   \n",
       "\n",
       "           2026.0        2027.0        2028.0        2029.0        2030.0  \\\n",
       "0    4.967966e+04  4.450877e+04  3.961583e+04  3.521779e+04  3.125626e+04   \n",
       "1    1.808999e+06  1.839189e+06  1.861406e+06  1.877095e+06  1.887071e+06   \n",
       "2    2.018330e+07  2.021134e+07  2.025129e+07  2.030255e+07  2.036572e+07   \n",
       "3    6.387856e+05  6.646759e+05  6.878436e+05  7.083505e+05  7.265021e+05   \n",
       "4    2.588954e+02  9.796264e+01  5.217059e+01  2.665256e+01  9.693067e+00   \n",
       "..            ...           ...           ...           ...           ...   \n",
       "204  2.164452e+05  2.087252e+05  2.012540e+05  1.935851e+05  1.858737e+05   \n",
       "205  7.995004e+04  7.702694e+04  7.409663e+04  7.118971e+04  6.825707e+04   \n",
       "206  1.027755e+03  1.703541e+03  2.595371e+03  3.684491e+03  4.953804e+03   \n",
       "207  3.573334e+04  3.402283e+04  3.239615e+04  3.080794e+04  2.925164e+04   \n",
       "208  7.911278e+06  7.930891e+06  7.947562e+06  7.960715e+06  7.968675e+06   \n",
       "\n",
       "           2031.0        2032.0        2033.0        2034.0        2035.0  \n",
       "0    2.791827e+04  2.491934e+04  2.240231e+04  2.025132e+04  1.845096e+04  \n",
       "1    1.891682e+06  1.892638e+06  1.889936e+06  1.885332e+06  1.879925e+06  \n",
       "2    2.044111e+07  2.053108e+07  2.063023e+07  2.074003e+07  2.085877e+07  \n",
       "3    7.425039e+05  7.566894e+05  7.690944e+05  7.801314e+05  7.900311e+05  \n",
       "4    1.035689e+01  1.097167e+01  1.154021e+01  1.206239e+01  1.254244e+01  \n",
       "..            ...           ...           ...           ...           ...  \n",
       "204  1.782733e+05  1.706270e+05  1.627477e+05  1.548220e+05  1.467599e+05  \n",
       "205  6.533212e+04  6.240885e+04  5.948309e+04  5.654310e+04  5.357671e+04  \n",
       "206  6.391006e+03  7.982185e+03  9.713483e+03  1.157368e+04  1.354666e+04  \n",
       "207  2.773975e+04  2.622593e+04  2.475896e+04  2.331457e+04  2.187430e+04  \n",
       "208  7.974858e+06  7.977745e+06  7.975637e+06  7.970251e+06  7.959239e+06  \n",
       "\n",
       "[209 rows x 15 columns]"
      ]
     },
     "execution_count": 3,
     "metadata": {},
     "output_type": "execute_result"
    }
   ],
   "source": [
    "vmt = pd.read_excel('vmt.xlsx')\n",
    "vmt"
   ]
  },
  {
   "cell_type": "code",
   "execution_count": 4,
   "id": "68d57e59",
   "metadata": {},
   "outputs": [
    {
     "data": {
      "text/plain": [
       "0.08773781827507178"
      ]
     },
     "execution_count": 4,
     "metadata": {},
     "output_type": "execute_result"
    }
   ],
   "source": [
    "(1431606.5+495839.8)/ (20040803.4+1431606.5+495839.8)"
   ]
  },
  {
   "cell_type": "code",
   "execution_count": 5,
   "id": "7c6ea176",
   "metadata": {},
   "outputs": [
    {
     "data": {
      "text/plain": [
       "0      False\n",
       "1      False\n",
       "2      False\n",
       "3      False\n",
       "4      False\n",
       "       ...  \n",
       "204    False\n",
       "205    False\n",
       "206    False\n",
       "207    False\n",
       "208     True\n",
       "Name: Veh_Tech, Length: 209, dtype: bool"
      ]
     },
     "execution_count": 5,
     "metadata": {},
     "output_type": "execute_result"
    }
   ],
   "source": [
    "vmt['Veh_Tech']=='total'"
   ]
  },
  {
   "cell_type": "code",
   "execution_count": 6,
   "id": "153859b5",
   "metadata": {},
   "outputs": [
    {
     "data": {
      "text/plain": [
       "146968995.0529998"
      ]
     },
     "execution_count": 6,
     "metadata": {},
     "output_type": "execute_result"
    }
   ],
   "source": [
    "sum(vmt.where(vmt['Veh_Tech']!='total').fillna(0)[2022.0])"
   ]
  },
  {
   "cell_type": "code",
   "execution_count": 7,
   "id": "ade3558e",
   "metadata": {},
   "outputs": [
    {
     "data": {
      "text/plain": [
       "158.518578"
      ]
     },
     "execution_count": 7,
     "metadata": {},
     "output_type": "execute_result"
    }
   ],
   "source": [
    "158518578/10.**6."
   ]
  },
  {
   "cell_type": "code",
   "execution_count": 104,
   "id": "532a61d3",
   "metadata": {},
   "outputs": [
    {
     "data": {
      "text/html": [
       "<div>\n",
       "<style scoped>\n",
       "    .dataframe tbody tr th:only-of-type {\n",
       "        vertical-align: middle;\n",
       "    }\n",
       "\n",
       "    .dataframe tbody tr th {\n",
       "        vertical-align: top;\n",
       "    }\n",
       "\n",
       "    .dataframe thead th {\n",
       "        text-align: right;\n",
       "    }\n",
       "</style>\n",
       "<table border=\"1\" class=\"dataframe\">\n",
       "  <thead>\n",
       "    <tr style=\"text-align: right;\">\n",
       "      <th></th>\n",
       "      <th>Fuel Type</th>\n",
       "      <th>Model Year</th>\n",
       "      <th>Vehicle Population</th>\n",
       "    </tr>\n",
       "  </thead>\n",
       "  <tbody>\n",
       "    <tr>\n",
       "      <th>1</th>\n",
       "      <td>Diesel</td>\n",
       "      <td>1979</td>\n",
       "      <td>1.0</td>\n",
       "    </tr>\n",
       "    <tr>\n",
       "      <th>2</th>\n",
       "      <td>Diesel</td>\n",
       "      <td>1992</td>\n",
       "      <td>1.0</td>\n",
       "    </tr>\n",
       "    <tr>\n",
       "      <th>3</th>\n",
       "      <td>Diesel</td>\n",
       "      <td>1993</td>\n",
       "      <td>1.0</td>\n",
       "    </tr>\n",
       "    <tr>\n",
       "      <th>4</th>\n",
       "      <td>Diesel</td>\n",
       "      <td>1999</td>\n",
       "      <td>1.0</td>\n",
       "    </tr>\n",
       "    <tr>\n",
       "      <th>5</th>\n",
       "      <td>Diesel</td>\n",
       "      <td>2000</td>\n",
       "      <td>3.0</td>\n",
       "    </tr>\n",
       "    <tr>\n",
       "      <th>...</th>\n",
       "      <td>...</td>\n",
       "      <td>...</td>\n",
       "      <td>...</td>\n",
       "    </tr>\n",
       "    <tr>\n",
       "      <th>397</th>\n",
       "      <td>Gasoline</td>\n",
       "      <td>2017</td>\n",
       "      <td>95789.0</td>\n",
       "    </tr>\n",
       "    <tr>\n",
       "      <th>398</th>\n",
       "      <td>Gasoline</td>\n",
       "      <td>2018</td>\n",
       "      <td>99834.0</td>\n",
       "    </tr>\n",
       "    <tr>\n",
       "      <th>399</th>\n",
       "      <td>Gasoline</td>\n",
       "      <td>2019</td>\n",
       "      <td>100730.0</td>\n",
       "    </tr>\n",
       "    <tr>\n",
       "      <th>400</th>\n",
       "      <td>Gasoline</td>\n",
       "      <td>2020</td>\n",
       "      <td>71194.0</td>\n",
       "    </tr>\n",
       "    <tr>\n",
       "      <th>401</th>\n",
       "      <td>Gasoline</td>\n",
       "      <td>2021</td>\n",
       "      <td>1014.0</td>\n",
       "    </tr>\n",
       "  </tbody>\n",
       "</table>\n",
       "<p>393 rows × 3 columns</p>\n",
       "</div>"
      ],
      "text/plain": [
       "    Fuel Type Model Year  Vehicle Population\n",
       "1      Diesel       1979                 1.0\n",
       "2      Diesel       1992                 1.0\n",
       "3      Diesel       1993                 1.0\n",
       "4      Diesel       1999                 1.0\n",
       "5      Diesel       2000                 3.0\n",
       "..        ...        ...                 ...\n",
       "397  Gasoline       2017             95789.0\n",
       "398  Gasoline       2018             99834.0\n",
       "399  Gasoline       2019            100730.0\n",
       "400  Gasoline       2020             71194.0\n",
       "401  Gasoline       2021              1014.0\n",
       "\n",
       "[393 rows x 3 columns]"
      ]
     },
     "execution_count": 104,
     "metadata": {},
     "output_type": "execute_result"
    }
   ],
   "source": [
    "df = pd.read_csv('FleetAll.csv')\n",
    "df=df.drop(columns=['Vehicle Category','GVWR Class','MPO'])\n",
    "df = df.where(df['Model Year'] != 'Unknown').dropna()\n",
    "df"
   ]
  },
  {
   "cell_type": "code",
   "execution_count": null,
   "id": "d2994e98",
   "metadata": {},
   "outputs": [],
   "source": []
  },
  {
   "cell_type": "code",
   "execution_count": 11,
   "id": "348e4493",
   "metadata": {},
   "outputs": [],
   "source": [
    "#############\n",
    "#Filling in the sales percentage from 2018 - 2035\n",
    "############\n",
    "years = np.arange(2018,2036)\n",
    "years_missing=[2018, 2019, 2020, 2021, 2022, 2026, 2027, 2028,\n",
    "       2029, 2030, 2031, 2032, 2033, 2034, 2035]\n",
    "sales_percentage_missing = [7.6,7.6,8.1,12.8,17.9,35,43,51,59,68,76,82,88,94,100]\n",
    "f= sp.interp1d(years_missing,sales_percentage_missing)\n",
    "sales_percentage = []\n",
    "for i in years:\n",
    "    sales_percentage.append(f(i))\n"
   ]
  },
  {
   "cell_type": "code",
   "execution_count": 12,
   "id": "9afaaa57",
   "metadata": {},
   "outputs": [
    {
     "data": {
      "text/plain": [
       "array([  7.6  ,   7.6  ,   8.1  ,  12.8  ,  17.9  ,  22.175,  26.45 ,\n",
       "        30.725,  35.   ,  43.   ,  51.   ,  59.   ,  68.   ,  76.   ,\n",
       "        82.   ,  88.   ,  94.   , 100.   ])"
      ]
     },
     "execution_count": 12,
     "metadata": {},
     "output_type": "execute_result"
    }
   ],
   "source": [
    "np.array(sales_percentage)"
   ]
  },
  {
   "cell_type": "code",
   "execution_count": 14,
   "id": "30f65ee2",
   "metadata": {},
   "outputs": [],
   "source": [
    "#total vehicle population in bay, last 5 years\n",
    "total_pop_years = [2015,2016,2017,2018,2019,2020]\n",
    "total_pop = [3032325,3063539,3033289,3027210,3020374,2855268]\n",
    "#plt.plot(total_pop_years,total_pop)"
   ]
  },
  {
   "cell_type": "code",
   "execution_count": null,
   "id": "11100c28",
   "metadata": {},
   "outputs": [],
   "source": []
  },
  {
   "cell_type": "code",
   "execution_count": 16,
   "id": "ac9b9107",
   "metadata": {},
   "outputs": [
    {
     "data": {
      "text/html": [
       "<div>\n",
       "<style scoped>\n",
       "    .dataframe tbody tr th:only-of-type {\n",
       "        vertical-align: middle;\n",
       "    }\n",
       "\n",
       "    .dataframe tbody tr th {\n",
       "        vertical-align: top;\n",
       "    }\n",
       "\n",
       "    .dataframe thead th {\n",
       "        text-align: right;\n",
       "    }\n",
       "</style>\n",
       "<table border=\"1\" class=\"dataframe\">\n",
       "  <thead>\n",
       "    <tr style=\"text-align: right;\">\n",
       "      <th></th>\n",
       "      <th>Vehicle Population</th>\n",
       "    </tr>\n",
       "    <tr>\n",
       "      <th>Fuel Type</th>\n",
       "      <th></th>\n",
       "    </tr>\n",
       "  </thead>\n",
       "  <tbody>\n",
       "    <tr>\n",
       "      <th>Diesel</th>\n",
       "      <td>16612</td>\n",
       "    </tr>\n",
       "    <tr>\n",
       "      <th>Electric</th>\n",
       "      <td>130710</td>\n",
       "    </tr>\n",
       "    <tr>\n",
       "      <th>Gasoline</th>\n",
       "      <td>4318964</td>\n",
       "    </tr>\n",
       "  </tbody>\n",
       "</table>\n",
       "</div>"
      ],
      "text/plain": [
       "           Vehicle Population\n",
       "Fuel Type                    \n",
       "Diesel                  16612\n",
       "Electric               130710\n",
       "Gasoline              4318964"
      ]
     },
     "execution_count": 16,
     "metadata": {},
     "output_type": "execute_result"
    }
   ],
   "source": [
    "totals = df.drop(columns=['Model Year'])\n",
    "totals = totals.groupby(['Fuel Type']).sum()\n",
    "\n",
    "totals"
   ]
  },
  {
   "cell_type": "code",
   "execution_count": 84,
   "id": "c332d12a",
   "metadata": {},
   "outputs": [
    {
     "data": {
      "text/html": [
       "<div>\n",
       "<style scoped>\n",
       "    .dataframe tbody tr th:only-of-type {\n",
       "        vertical-align: middle;\n",
       "    }\n",
       "\n",
       "    .dataframe tbody tr th {\n",
       "        vertical-align: top;\n",
       "    }\n",
       "\n",
       "    .dataframe thead th {\n",
       "        text-align: right;\n",
       "    }\n",
       "</style>\n",
       "<table border=\"1\" class=\"dataframe\">\n",
       "  <thead>\n",
       "    <tr style=\"text-align: right;\">\n",
       "      <th></th>\n",
       "      <th>Model Year</th>\n",
       "      <th>Vehicle Population</th>\n",
       "    </tr>\n",
       "  </thead>\n",
       "  <tbody>\n",
       "    <tr>\n",
       "      <th>49</th>\n",
       "      <td>1975</td>\n",
       "      <td>5356.0</td>\n",
       "    </tr>\n",
       "    <tr>\n",
       "      <th>50</th>\n",
       "      <td>1976</td>\n",
       "      <td>358.0</td>\n",
       "    </tr>\n",
       "    <tr>\n",
       "      <th>51</th>\n",
       "      <td>1977</td>\n",
       "      <td>343.0</td>\n",
       "    </tr>\n",
       "    <tr>\n",
       "      <th>52</th>\n",
       "      <td>1978</td>\n",
       "      <td>512.0</td>\n",
       "    </tr>\n",
       "    <tr>\n",
       "      <th>53</th>\n",
       "      <td>1979</td>\n",
       "      <td>561.0</td>\n",
       "    </tr>\n",
       "    <tr>\n",
       "      <th>...</th>\n",
       "      <td>...</td>\n",
       "      <td>...</td>\n",
       "    </tr>\n",
       "    <tr>\n",
       "      <th>397</th>\n",
       "      <td>2017</td>\n",
       "      <td>95789.0</td>\n",
       "    </tr>\n",
       "    <tr>\n",
       "      <th>398</th>\n",
       "      <td>2018</td>\n",
       "      <td>99834.0</td>\n",
       "    </tr>\n",
       "    <tr>\n",
       "      <th>399</th>\n",
       "      <td>2019</td>\n",
       "      <td>100730.0</td>\n",
       "    </tr>\n",
       "    <tr>\n",
       "      <th>400</th>\n",
       "      <td>2020</td>\n",
       "      <td>71194.0</td>\n",
       "    </tr>\n",
       "    <tr>\n",
       "      <th>401</th>\n",
       "      <td>2021</td>\n",
       "      <td>1014.0</td>\n",
       "    </tr>\n",
       "  </tbody>\n",
       "</table>\n",
       "<p>211 rows × 2 columns</p>\n",
       "</div>"
      ],
      "text/plain": [
       "    Model Year  Vehicle Population\n",
       "49        1975              5356.0\n",
       "50        1976               358.0\n",
       "51        1977               343.0\n",
       "52        1978               512.0\n",
       "53        1979               561.0\n",
       "..         ...                 ...\n",
       "397       2017             95789.0\n",
       "398       2018             99834.0\n",
       "399       2019            100730.0\n",
       "400       2020             71194.0\n",
       "401       2021              1014.0\n",
       "\n",
       "[211 rows x 2 columns]"
      ]
     },
     "execution_count": 84,
     "metadata": {},
     "output_type": "execute_result"
    }
   ],
   "source": [
    "icef = df.where(df['Fuel Type'] == 'Gasoline').dropna()\n",
    "icef = icef.drop('Fuel Type', axis = 1)\n",
    "icef = icef.groupby(['Model Year']).sum()\n",
    "icef"
   ]
  },
  {
   "cell_type": "code",
   "execution_count": 13,
   "id": "f296d9f3",
   "metadata": {},
   "outputs": [
    {
     "data": {
      "text/html": [
       "<div>\n",
       "<style scoped>\n",
       "    .dataframe tbody tr th:only-of-type {\n",
       "        vertical-align: middle;\n",
       "    }\n",
       "\n",
       "    .dataframe tbody tr th {\n",
       "        vertical-align: top;\n",
       "    }\n",
       "\n",
       "    .dataframe thead th {\n",
       "        text-align: right;\n",
       "    }\n",
       "</style>\n",
       "<table border=\"1\" class=\"dataframe\">\n",
       "  <thead>\n",
       "    <tr style=\"text-align: right;\">\n",
       "      <th></th>\n",
       "      <th>Model Year</th>\n",
       "      <th>Fuel Technology</th>\n",
       "      <th>Vehicle Population</th>\n",
       "    </tr>\n",
       "  </thead>\n",
       "  <tbody>\n",
       "    <tr>\n",
       "      <th>58</th>\n",
       "      <td>2011</td>\n",
       "      <td>PHEV</td>\n",
       "      <td>190.0</td>\n",
       "    </tr>\n",
       "    <tr>\n",
       "      <th>61</th>\n",
       "      <td>2012</td>\n",
       "      <td>PHEV</td>\n",
       "      <td>2539.0</td>\n",
       "    </tr>\n",
       "    <tr>\n",
       "      <th>64</th>\n",
       "      <td>2013</td>\n",
       "      <td>PHEV</td>\n",
       "      <td>4722.0</td>\n",
       "    </tr>\n",
       "    <tr>\n",
       "      <th>67</th>\n",
       "      <td>2014</td>\n",
       "      <td>PHEV</td>\n",
       "      <td>6670.0</td>\n",
       "    </tr>\n",
       "    <tr>\n",
       "      <th>70</th>\n",
       "      <td>2015</td>\n",
       "      <td>PHEV</td>\n",
       "      <td>4112.0</td>\n",
       "    </tr>\n",
       "    <tr>\n",
       "      <th>73</th>\n",
       "      <td>2016</td>\n",
       "      <td>PHEV</td>\n",
       "      <td>3651.0</td>\n",
       "    </tr>\n",
       "    <tr>\n",
       "      <th>76</th>\n",
       "      <td>2017</td>\n",
       "      <td>PHEV</td>\n",
       "      <td>10725.0</td>\n",
       "    </tr>\n",
       "    <tr>\n",
       "      <th>79</th>\n",
       "      <td>2018</td>\n",
       "      <td>PHEV</td>\n",
       "      <td>13128.0</td>\n",
       "    </tr>\n",
       "    <tr>\n",
       "      <th>82</th>\n",
       "      <td>2019</td>\n",
       "      <td>PHEV</td>\n",
       "      <td>8107.0</td>\n",
       "    </tr>\n",
       "    <tr>\n",
       "      <th>85</th>\n",
       "      <td>2020</td>\n",
       "      <td>PHEV</td>\n",
       "      <td>3483.0</td>\n",
       "    </tr>\n",
       "    <tr>\n",
       "      <th>88</th>\n",
       "      <td>2021</td>\n",
       "      <td>PHEV</td>\n",
       "      <td>39.0</td>\n",
       "    </tr>\n",
       "  </tbody>\n",
       "</table>\n",
       "</div>"
      ],
      "text/plain": [
       "   Model Year Fuel Technology  Vehicle Population\n",
       "58       2011            PHEV               190.0\n",
       "61       2012            PHEV              2539.0\n",
       "64       2013            PHEV              4722.0\n",
       "67       2014            PHEV              6670.0\n",
       "70       2015            PHEV              4112.0\n",
       "73       2016            PHEV              3651.0\n",
       "76       2017            PHEV             10725.0\n",
       "79       2018            PHEV             13128.0\n",
       "82       2019            PHEV              8107.0\n",
       "85       2020            PHEV              3483.0\n",
       "88       2021            PHEV                39.0"
      ]
     },
     "execution_count": 13,
     "metadata": {},
     "output_type": "execute_result"
    }
   ],
   "source": [
    "pvf = df.where(df['Fuel Technology'] == 'PHEV').dropna()\n",
    "pvf"
   ]
  },
  {
   "cell_type": "code",
   "execution_count": 14,
   "id": "bb82636a",
   "metadata": {},
   "outputs": [
    {
     "data": {
      "text/plain": [
       "array([  190.,  2539.,  4722.,  6670.,  4112.,  3651., 10725., 13128.,\n",
       "        8107.,  3483.,    39.])"
      ]
     },
     "execution_count": 14,
     "metadata": {},
     "output_type": "execute_result"
    }
   ],
   "source": [
    "np.array(pvf['Vehicle Population'])"
   ]
  },
  {
   "cell_type": "code",
   "execution_count": 86,
   "id": "dcd6039f",
   "metadata": {},
   "outputs": [
    {
     "data": {
      "text/html": [
       "<div>\n",
       "<style scoped>\n",
       "    .dataframe tbody tr th:only-of-type {\n",
       "        vertical-align: middle;\n",
       "    }\n",
       "\n",
       "    .dataframe tbody tr th {\n",
       "        vertical-align: top;\n",
       "    }\n",
       "\n",
       "    .dataframe thead th {\n",
       "        text-align: right;\n",
       "    }\n",
       "</style>\n",
       "<table border=\"1\" class=\"dataframe\">\n",
       "  <thead>\n",
       "    <tr style=\"text-align: right;\">\n",
       "      <th></th>\n",
       "      <th>Model Year</th>\n",
       "      <th>Vehicle Population</th>\n",
       "    </tr>\n",
       "  </thead>\n",
       "  <tbody>\n",
       "    <tr>\n",
       "      <th>21</th>\n",
       "      <td>1977</td>\n",
       "      <td>1.0</td>\n",
       "    </tr>\n",
       "    <tr>\n",
       "      <th>22</th>\n",
       "      <td>1992</td>\n",
       "      <td>1.0</td>\n",
       "    </tr>\n",
       "    <tr>\n",
       "      <th>23</th>\n",
       "      <td>1993</td>\n",
       "      <td>10.0</td>\n",
       "    </tr>\n",
       "    <tr>\n",
       "      <th>24</th>\n",
       "      <td>1994</td>\n",
       "      <td>1.0</td>\n",
       "    </tr>\n",
       "    <tr>\n",
       "      <th>25</th>\n",
       "      <td>1996</td>\n",
       "      <td>4.0</td>\n",
       "    </tr>\n",
       "    <tr>\n",
       "      <th>...</th>\n",
       "      <td>...</td>\n",
       "      <td>...</td>\n",
       "    </tr>\n",
       "    <tr>\n",
       "      <th>350</th>\n",
       "      <td>2003</td>\n",
       "      <td>13.0</td>\n",
       "    </tr>\n",
       "    <tr>\n",
       "      <th>351</th>\n",
       "      <td>2011</td>\n",
       "      <td>1.0</td>\n",
       "    </tr>\n",
       "    <tr>\n",
       "      <th>352</th>\n",
       "      <td>2012</td>\n",
       "      <td>10.0</td>\n",
       "    </tr>\n",
       "    <tr>\n",
       "      <th>353</th>\n",
       "      <td>2019</td>\n",
       "      <td>269.0</td>\n",
       "    </tr>\n",
       "    <tr>\n",
       "      <th>354</th>\n",
       "      <td>2020</td>\n",
       "      <td>100.0</td>\n",
       "    </tr>\n",
       "  </tbody>\n",
       "</table>\n",
       "<p>73 rows × 2 columns</p>\n",
       "</div>"
      ],
      "text/plain": [
       "    Model Year  Vehicle Population\n",
       "21        1977                 1.0\n",
       "22        1992                 1.0\n",
       "23        1993                10.0\n",
       "24        1994                 1.0\n",
       "25        1996                 4.0\n",
       "..         ...                 ...\n",
       "350       2003                13.0\n",
       "351       2011                 1.0\n",
       "352       2012                10.0\n",
       "353       2019               269.0\n",
       "354       2020               100.0\n",
       "\n",
       "[73 rows x 2 columns]"
      ]
     },
     "execution_count": 86,
     "metadata": {},
     "output_type": "execute_result"
    }
   ],
   "source": [
    "evf = df.where(df['Fuel Type'] == 'Electric').dropna()\n",
    "evf = evf.where(evf['Model Year'] != 'Unknown').dropna()\n",
    "evf = evf.drop('Fuel Type', axis = 1)\n",
    "evf"
   ]
  },
  {
   "cell_type": "code",
   "execution_count": 85,
   "id": "be00e1dc",
   "metadata": {},
   "outputs": [
    {
     "ename": "NameError",
     "evalue": "name 'pvf' is not defined",
     "output_type": "error",
     "traceback": [
      "\u001b[0;31m---------------------------------------------------------------------------\u001b[0m",
      "\u001b[0;31mNameError\u001b[0m                                 Traceback (most recent call last)",
      "Cell \u001b[0;32mIn [85], line 6\u001b[0m\n\u001b[1;32m      4\u001b[0m v \u001b[38;5;241m=\u001b[39m np\u001b[38;5;241m.\u001b[39marray(evf[\u001b[38;5;124m'\u001b[39m\u001b[38;5;124mVehicle Population\u001b[39m\u001b[38;5;124m'\u001b[39m])\n\u001b[1;32m      5\u001b[0m a \u001b[38;5;241m=\u001b[39m v[\u001b[38;5;241m18\u001b[39m:]\n\u001b[0;32m----> 6\u001b[0m v[\u001b[38;5;241m18\u001b[39m:] \u001b[38;5;241m=\u001b[39m a \u001b[38;5;241m+\u001b[39mnp\u001b[38;5;241m.\u001b[39marray(\u001b[43mpvf\u001b[49m[\u001b[38;5;124m'\u001b[39m\u001b[38;5;124mVehicle Population\u001b[39m\u001b[38;5;124m'\u001b[39m])\n\u001b[1;32m      7\u001b[0m evf[\u001b[38;5;124m'\u001b[39m\u001b[38;5;124mVehicle Population\u001b[39m\u001b[38;5;124m'\u001b[39m] \u001b[38;5;241m=\u001b[39m v\n",
      "\u001b[0;31mNameError\u001b[0m: name 'pvf' is not defined"
     ]
    }
   ],
   "source": [
    "evf = df.where(df['Fuel Type'] == 'Electric').dropna()\n",
    "evf = evf.where(evf['Model Year'] != 'Unknown').dropna()\n",
    "evf = evf.drop('Fuel Type', axis = 1)\n",
    "v = np.array(evf['Vehicle Population'])\n",
    "a = v[18:]\n",
    "v[18:] = a +np.array(pvf['Vehicle Population'])\n",
    "evf['Vehicle Population'] = v"
   ]
  },
  {
   "cell_type": "code",
   "execution_count": 16,
   "id": "8d1ec6a8",
   "metadata": {},
   "outputs": [
    {
     "data": {
      "text/plain": [
       "186473.0"
      ]
     },
     "execution_count": 16,
     "metadata": {},
     "output_type": "execute_result"
    }
   ],
   "source": [
    "sum(evf['Vehicle Population'])"
   ]
  },
  {
   "cell_type": "code",
   "execution_count": 17,
   "id": "5994f036",
   "metadata": {},
   "outputs": [
    {
     "data": {
      "text/plain": [
       "2855268"
      ]
     },
     "execution_count": 17,
     "metadata": {},
     "output_type": "execute_result"
    }
   ],
   "source": [
    "sum(totals['Vehicle Population'])"
   ]
  },
  {
   "cell_type": "code",
   "execution_count": 18,
   "id": "a3ae27eb",
   "metadata": {},
   "outputs": [
    {
     "data": {
      "text/plain": [
       "0.06530840537560748"
      ]
     },
     "execution_count": 18,
     "metadata": {},
     "output_type": "execute_result"
    }
   ],
   "source": [
    "186473.0/2855268"
   ]
  },
  {
   "cell_type": "code",
   "execution_count": 19,
   "id": "7203503c",
   "metadata": {},
   "outputs": [
    {
     "data": {
      "text/html": [
       "<div>\n",
       "<style scoped>\n",
       "    .dataframe tbody tr th:only-of-type {\n",
       "        vertical-align: middle;\n",
       "    }\n",
       "\n",
       "    .dataframe tbody tr th {\n",
       "        vertical-align: top;\n",
       "    }\n",
       "\n",
       "    .dataframe thead th {\n",
       "        text-align: right;\n",
       "    }\n",
       "</style>\n",
       "<table border=\"1\" class=\"dataframe\">\n",
       "  <thead>\n",
       "    <tr style=\"text-align: right;\">\n",
       "      <th></th>\n",
       "      <th>Model Year</th>\n",
       "      <th>Vehicle Population</th>\n",
       "    </tr>\n",
       "  </thead>\n",
       "  <tbody>\n",
       "    <tr>\n",
       "      <th>2</th>\n",
       "      <td>1975</td>\n",
       "      <td>8.0</td>\n",
       "    </tr>\n",
       "    <tr>\n",
       "      <th>4</th>\n",
       "      <td>1976</td>\n",
       "      <td>1.0</td>\n",
       "    </tr>\n",
       "    <tr>\n",
       "      <th>9</th>\n",
       "      <td>1980</td>\n",
       "      <td>3.0</td>\n",
       "    </tr>\n",
       "    <tr>\n",
       "      <th>19</th>\n",
       "      <td>1989</td>\n",
       "      <td>1.0</td>\n",
       "    </tr>\n",
       "    <tr>\n",
       "      <th>26</th>\n",
       "      <td>1995</td>\n",
       "      <td>1.0</td>\n",
       "    </tr>\n",
       "    <tr>\n",
       "      <th>29</th>\n",
       "      <td>1997</td>\n",
       "      <td>1.0</td>\n",
       "    </tr>\n",
       "    <tr>\n",
       "      <th>31</th>\n",
       "      <td>1998</td>\n",
       "      <td>2.0</td>\n",
       "    </tr>\n",
       "    <tr>\n",
       "      <th>33</th>\n",
       "      <td>1999</td>\n",
       "      <td>1.0</td>\n",
       "    </tr>\n",
       "    <tr>\n",
       "      <th>35</th>\n",
       "      <td>2000</td>\n",
       "      <td>1.0</td>\n",
       "    </tr>\n",
       "    <tr>\n",
       "      <th>37</th>\n",
       "      <td>2001</td>\n",
       "      <td>1.0</td>\n",
       "    </tr>\n",
       "    <tr>\n",
       "      <th>39</th>\n",
       "      <td>2002</td>\n",
       "      <td>7.0</td>\n",
       "    </tr>\n",
       "    <tr>\n",
       "      <th>42</th>\n",
       "      <td>2004</td>\n",
       "      <td>2.0</td>\n",
       "    </tr>\n",
       "    <tr>\n",
       "      <th>44</th>\n",
       "      <td>2005</td>\n",
       "      <td>2.0</td>\n",
       "    </tr>\n",
       "    <tr>\n",
       "      <th>46</th>\n",
       "      <td>2006</td>\n",
       "      <td>1.0</td>\n",
       "    </tr>\n",
       "    <tr>\n",
       "      <th>48</th>\n",
       "      <td>2007</td>\n",
       "      <td>4.0</td>\n",
       "    </tr>\n",
       "    <tr>\n",
       "      <th>50</th>\n",
       "      <td>2008</td>\n",
       "      <td>111.0</td>\n",
       "    </tr>\n",
       "    <tr>\n",
       "      <th>52</th>\n",
       "      <td>2009</td>\n",
       "      <td>13.0</td>\n",
       "    </tr>\n",
       "    <tr>\n",
       "      <th>54</th>\n",
       "      <td>2010</td>\n",
       "      <td>88.0</td>\n",
       "    </tr>\n",
       "    <tr>\n",
       "      <th>56</th>\n",
       "      <td>2011</td>\n",
       "      <td>1332.0</td>\n",
       "    </tr>\n",
       "    <tr>\n",
       "      <th>59</th>\n",
       "      <td>2012</td>\n",
       "      <td>4024.0</td>\n",
       "    </tr>\n",
       "    <tr>\n",
       "      <th>62</th>\n",
       "      <td>2013</td>\n",
       "      <td>9132.0</td>\n",
       "    </tr>\n",
       "    <tr>\n",
       "      <th>65</th>\n",
       "      <td>2014</td>\n",
       "      <td>11300.0</td>\n",
       "    </tr>\n",
       "    <tr>\n",
       "      <th>68</th>\n",
       "      <td>2015</td>\n",
       "      <td>10746.0</td>\n",
       "    </tr>\n",
       "    <tr>\n",
       "      <th>71</th>\n",
       "      <td>2016</td>\n",
       "      <td>12772.0</td>\n",
       "    </tr>\n",
       "    <tr>\n",
       "      <th>74</th>\n",
       "      <td>2017</td>\n",
       "      <td>25647.0</td>\n",
       "    </tr>\n",
       "    <tr>\n",
       "      <th>77</th>\n",
       "      <td>2018</td>\n",
       "      <td>50617.0</td>\n",
       "    </tr>\n",
       "    <tr>\n",
       "      <th>80</th>\n",
       "      <td>2019</td>\n",
       "      <td>36433.0</td>\n",
       "    </tr>\n",
       "    <tr>\n",
       "      <th>83</th>\n",
       "      <td>2020</td>\n",
       "      <td>24110.0</td>\n",
       "    </tr>\n",
       "    <tr>\n",
       "      <th>86</th>\n",
       "      <td>2021</td>\n",
       "      <td>112.0</td>\n",
       "    </tr>\n",
       "  </tbody>\n",
       "</table>\n",
       "</div>"
      ],
      "text/plain": [
       "   Model Year  Vehicle Population\n",
       "2        1975                 8.0\n",
       "4        1976                 1.0\n",
       "9        1980                 3.0\n",
       "19       1989                 1.0\n",
       "26       1995                 1.0\n",
       "29       1997                 1.0\n",
       "31       1998                 2.0\n",
       "33       1999                 1.0\n",
       "35       2000                 1.0\n",
       "37       2001                 1.0\n",
       "39       2002                 7.0\n",
       "42       2004                 2.0\n",
       "44       2005                 2.0\n",
       "46       2006                 1.0\n",
       "48       2007                 4.0\n",
       "50       2008               111.0\n",
       "52       2009                13.0\n",
       "54       2010                88.0\n",
       "56       2011              1332.0\n",
       "59       2012              4024.0\n",
       "62       2013              9132.0\n",
       "65       2014             11300.0\n",
       "68       2015             10746.0\n",
       "71       2016             12772.0\n",
       "74       2017             25647.0\n",
       "77       2018             50617.0\n",
       "80       2019             36433.0\n",
       "83       2020             24110.0\n",
       "86       2021               112.0"
      ]
     },
     "execution_count": 19,
     "metadata": {},
     "output_type": "execute_result"
    }
   ],
   "source": [
    "evf"
   ]
  },
  {
   "cell_type": "code",
   "execution_count": 25,
   "id": "8c11b441",
   "metadata": {},
   "outputs": [],
   "source": [
    "times = df.drop(columns=['Fuel Type'])\n",
    "times = times.where(times['Model Year'] != 'Unknown').dropna()\n",
    "times['Model Year'] = times['Model Year'].astype(int)\n",
    "times = times.groupby(['Model Year']).sum()"
   ]
  },
  {
   "cell_type": "code",
   "execution_count": 26,
   "id": "d7780d63",
   "metadata": {},
   "outputs": [],
   "source": [
    "shortened = times.drop(2021, axis = 0)\n",
    "#shortened = shortened.drop(2020, axis = 0)"
   ]
  },
  {
   "cell_type": "code",
   "execution_count": 27,
   "id": "aebed785",
   "metadata": {},
   "outputs": [
    {
     "data": {
      "image/png": "[encoded data removed]",
      "text/plain": [
       "<Figure size 640x480 with 1 Axes>"
      ]
     },
     "metadata": {},
     "output_type": "display_data"
    }
   ],
   "source": [
    "plt.plot(shortened)\n",
    "plt.ylabel('Number of Vehicles')\n",
    "plt.xlabel('Model Year')\n",
    "plt.title('Number of Vehicles on the Road From Each Model Year')\n",
    "plt.show()"
   ]
  },
  {
   "cell_type": "code",
   "execution_count": null,
   "id": "39c388ae",
   "metadata": {},
   "outputs": [],
   "source": []
  },
  {
   "cell_type": "code",
   "execution_count": 41,
   "id": "75b8c5b3",
   "metadata": {},
   "outputs": [
    {
     "data": {
      "text/plain": [
       "326147.0"
      ]
     },
     "execution_count": 41,
     "metadata": {},
     "output_type": "execute_result"
    }
   ],
   "source": [
    "times['Vehicle Population'][2018]"
   ]
  },
  {
   "cell_type": "code",
   "execution_count": 29,
   "id": "9c12cb16",
   "metadata": {},
   "outputs": [
    {
     "data": {
      "text/plain": [
       "192218.0"
      ]
     },
     "execution_count": 29,
     "metadata": {},
     "output_type": "execute_result"
    }
   ],
   "source": [
    "times['Vehicle Population'][2012]"
   ]
  },
  {
   "cell_type": "code",
   "execution_count": 30,
   "id": "5f831614",
   "metadata": {},
   "outputs": [
    {
     "data": {
      "text/plain": [
       "array([ 6.95368421,  8.69600861, 12.2180358 ])"
      ]
     },
     "execution_count": 30,
     "metadata": {},
     "output_type": "execute_result"
    }
   ],
   "source": [
    "np.log([1047,5979,202407])"
   ]
  },
  {
   "cell_type": "code",
   "execution_count": 75,
   "id": "2ed67540",
   "metadata": {},
   "outputs": [],
   "source": [
    "f2 = sp.CubicSpline([1980,1990,2002,2015,2018],np.log([1801,11219.0,108976.0-8000,295129.0-10050,326147.0-20000]), extrapolate=True)"
   ]
  },
  {
   "cell_type": "code",
   "execution_count": 76,
   "id": "18ed7e71",
   "metadata": {},
   "outputs": [
    {
     "data": {
      "image/png": "[encoded data removed]",
      "text/plain": [
       "<Figure size 640x480 with 1 Axes>"
      ]
     },
     "metadata": {},
     "output_type": "display_data"
    }
   ],
   "source": [
    "plt.figure()\n",
    "plt.plot(np.arange(1975,2020),times['Vehicle Population'][np.arange(1975,2020)])\n",
    "plt.plot(np.arange(1975,2020),np.exp(f2(np.arange(1975,2020))))\n",
    "plt.ylabel('Number of Vehicles')\n",
    "plt.xlabel('Model Year')\n",
    "plt.title('Vehicles on the Road Data vs Model')\n",
    "plt.show()"
   ]
  },
  {
   "cell_type": "code",
   "execution_count": 77,
   "id": "2425bc71",
   "metadata": {},
   "outputs": [
    {
     "data": {
      "text/plain": [
       "2009.83158810058"
      ]
     },
     "execution_count": 77,
     "metadata": {},
     "output_type": "execute_result"
    }
   ],
   "source": [
    "pops = np.array(times['Vehicle Population'])\n",
    "weighted_avg_tot = 0\n",
    "for i in range(47):\n",
    "    weighted_avg_tot += pops[i]*(1975+i)\n",
    "\n",
    "weighted_avg = weighted_avg_tot/sum(pops)\n",
    "weighted_avg"
   ]
  },
  {
   "cell_type": "code",
   "execution_count": 78,
   "id": "52d55c4c",
   "metadata": {},
   "outputs": [],
   "source": [
    "def model(year):\n",
    "    return 0.98323* np.exp(f2(year))"
   ]
  },
  {
   "cell_type": "code",
   "execution_count": 79,
   "id": "48efa480",
   "metadata": {},
   "outputs": [
    {
     "data": {
      "text/plain": [
       "1.0001040180213532"
      ]
     },
     "execution_count": 79,
     "metadata": {},
     "output_type": "execute_result"
    }
   ],
   "source": [
    "sum(pops)/sum(model(range(1960,2020)))"
   ]
  },
  {
   "cell_type": "code",
   "execution_count": 80,
   "id": "4ce8b2df",
   "metadata": {},
   "outputs": [
    {
     "data": {
      "text/plain": [
       "2009.8276601936905"
      ]
     },
     "execution_count": 80,
     "metadata": {},
     "output_type": "execute_result"
    }
   ],
   "source": [
    "weighted_model_tot = 0\n",
    "for i in range(1960,2020):\n",
    "    weighted_model_tot += model(i)*(i)\n",
    "\n",
    "weighted_model = weighted_model_tot/sum(pops)\n",
    "weighted_model"
   ]
  },
  {
   "cell_type": "code",
   "execution_count": 95,
   "id": "5ac12fa5",
   "metadata": {},
   "outputs": [
    {
     "data": {
      "text/html": [
       "<div>\n",
       "<style scoped>\n",
       "    .dataframe tbody tr th:only-of-type {\n",
       "        vertical-align: middle;\n",
       "    }\n",
       "\n",
       "    .dataframe tbody tr th {\n",
       "        vertical-align: top;\n",
       "    }\n",
       "\n",
       "    .dataframe thead th {\n",
       "        text-align: right;\n",
       "    }\n",
       "</style>\n",
       "<table border=\"1\" class=\"dataframe\">\n",
       "  <thead>\n",
       "    <tr style=\"text-align: right;\">\n",
       "      <th></th>\n",
       "      <th>Fuel Type</th>\n",
       "      <th>Model Year</th>\n",
       "      <th>Vehicle Population</th>\n",
       "    </tr>\n",
       "  </thead>\n",
       "  <tbody>\n",
       "    <tr>\n",
       "      <th>20</th>\n",
       "      <td>Electric</td>\n",
       "      <td>Unknown</td>\n",
       "      <td>6.0</td>\n",
       "    </tr>\n",
       "    <tr>\n",
       "      <th>21</th>\n",
       "      <td>Electric</td>\n",
       "      <td>1977</td>\n",
       "      <td>1.0</td>\n",
       "    </tr>\n",
       "    <tr>\n",
       "      <th>22</th>\n",
       "      <td>Electric</td>\n",
       "      <td>1992</td>\n",
       "      <td>1.0</td>\n",
       "    </tr>\n",
       "    <tr>\n",
       "      <th>23</th>\n",
       "      <td>Electric</td>\n",
       "      <td>1993</td>\n",
       "      <td>10.0</td>\n",
       "    </tr>\n",
       "    <tr>\n",
       "      <th>24</th>\n",
       "      <td>Electric</td>\n",
       "      <td>1994</td>\n",
       "      <td>1.0</td>\n",
       "    </tr>\n",
       "    <tr>\n",
       "      <th>...</th>\n",
       "      <td>...</td>\n",
       "      <td>...</td>\n",
       "      <td>...</td>\n",
       "    </tr>\n",
       "    <tr>\n",
       "      <th>350</th>\n",
       "      <td>Electric</td>\n",
       "      <td>2003</td>\n",
       "      <td>13.0</td>\n",
       "    </tr>\n",
       "    <tr>\n",
       "      <th>351</th>\n",
       "      <td>Electric</td>\n",
       "      <td>2011</td>\n",
       "      <td>1.0</td>\n",
       "    </tr>\n",
       "    <tr>\n",
       "      <th>352</th>\n",
       "      <td>Electric</td>\n",
       "      <td>2012</td>\n",
       "      <td>10.0</td>\n",
       "    </tr>\n",
       "    <tr>\n",
       "      <th>353</th>\n",
       "      <td>Electric</td>\n",
       "      <td>2019</td>\n",
       "      <td>269.0</td>\n",
       "    </tr>\n",
       "    <tr>\n",
       "      <th>354</th>\n",
       "      <td>Electric</td>\n",
       "      <td>2020</td>\n",
       "      <td>100.0</td>\n",
       "    </tr>\n",
       "  </tbody>\n",
       "</table>\n",
       "<p>75 rows × 3 columns</p>\n",
       "</div>"
      ],
      "text/plain": [
       "    Fuel Type Model Year  Vehicle Population\n",
       "20   Electric    Unknown                 6.0\n",
       "21   Electric       1977                 1.0\n",
       "22   Electric       1992                 1.0\n",
       "23   Electric       1993                10.0\n",
       "24   Electric       1994                 1.0\n",
       "..        ...        ...                 ...\n",
       "350  Electric       2003                13.0\n",
       "351  Electric       2011                 1.0\n",
       "352  Electric       2012                10.0\n",
       "353  Electric       2019               269.0\n",
       "354  Electric       2020               100.0\n",
       "\n",
       "[75 rows x 3 columns]"
      ]
     },
     "execution_count": 95,
     "metadata": {},
     "output_type": "execute_result"
    }
   ],
   "source": [
    "df.where(df['Fuel Type'] == 'Electric').dropna()"
   ]
  },
  {
   "cell_type": "code",
   "execution_count": 106,
   "id": "5ba649da",
   "metadata": {},
   "outputs": [
    {
     "data": {
      "text/html": [
       "<div>\n",
       "<style scoped>\n",
       "    .dataframe tbody tr th:only-of-type {\n",
       "        vertical-align: middle;\n",
       "    }\n",
       "\n",
       "    .dataframe tbody tr th {\n",
       "        vertical-align: top;\n",
       "    }\n",
       "\n",
       "    .dataframe thead th {\n",
       "        text-align: right;\n",
       "    }\n",
       "</style>\n",
       "<table border=\"1\" class=\"dataframe\">\n",
       "  <thead>\n",
       "    <tr style=\"text-align: right;\">\n",
       "      <th></th>\n",
       "      <th>ICE Population</th>\n",
       "      <th>EV Population</th>\n",
       "    </tr>\n",
       "    <tr>\n",
       "      <th>Model Year</th>\n",
       "      <th></th>\n",
       "      <th></th>\n",
       "    </tr>\n",
       "  </thead>\n",
       "  <tbody>\n",
       "    <tr>\n",
       "      <th>1975</th>\n",
       "      <td>95018.0</td>\n",
       "      <td>8.0</td>\n",
       "    </tr>\n",
       "    <tr>\n",
       "      <th>1976</th>\n",
       "      <td>1936.0</td>\n",
       "      <td>1.0</td>\n",
       "    </tr>\n",
       "    <tr>\n",
       "      <th>1977</th>\n",
       "      <td>1831.0</td>\n",
       "      <td>1.0</td>\n",
       "    </tr>\n",
       "    <tr>\n",
       "      <th>1978</th>\n",
       "      <td>2178.0</td>\n",
       "      <td>0.0</td>\n",
       "    </tr>\n",
       "    <tr>\n",
       "      <th>1979</th>\n",
       "      <td>2341.0</td>\n",
       "      <td>0.0</td>\n",
       "    </tr>\n",
       "    <tr>\n",
       "      <th>1980</th>\n",
       "      <td>1591.0</td>\n",
       "      <td>3.0</td>\n",
       "    </tr>\n",
       "    <tr>\n",
       "      <th>1981</th>\n",
       "      <td>1850.0</td>\n",
       "      <td>0.0</td>\n",
       "    </tr>\n",
       "    <tr>\n",
       "      <th>1982</th>\n",
       "      <td>2042.0</td>\n",
       "      <td>0.0</td>\n",
       "    </tr>\n",
       "    <tr>\n",
       "      <th>1983</th>\n",
       "      <td>2557.0</td>\n",
       "      <td>0.0</td>\n",
       "    </tr>\n",
       "    <tr>\n",
       "      <th>1984</th>\n",
       "      <td>3681.0</td>\n",
       "      <td>0.0</td>\n",
       "    </tr>\n",
       "    <tr>\n",
       "      <th>1985</th>\n",
       "      <td>4756.0</td>\n",
       "      <td>0.0</td>\n",
       "    </tr>\n",
       "    <tr>\n",
       "      <th>1986</th>\n",
       "      <td>6485.0</td>\n",
       "      <td>0.0</td>\n",
       "    </tr>\n",
       "    <tr>\n",
       "      <th>1987</th>\n",
       "      <td>7078.0</td>\n",
       "      <td>0.0</td>\n",
       "    </tr>\n",
       "    <tr>\n",
       "      <th>1988</th>\n",
       "      <td>7108.0</td>\n",
       "      <td>0.0</td>\n",
       "    </tr>\n",
       "    <tr>\n",
       "      <th>1989</th>\n",
       "      <td>9192.0</td>\n",
       "      <td>1.0</td>\n",
       "    </tr>\n",
       "    <tr>\n",
       "      <th>1990</th>\n",
       "      <td>11209.0</td>\n",
       "      <td>0.0</td>\n",
       "    </tr>\n",
       "    <tr>\n",
       "      <th>1991</th>\n",
       "      <td>13895.0</td>\n",
       "      <td>0.0</td>\n",
       "    </tr>\n",
       "    <tr>\n",
       "      <th>1992</th>\n",
       "      <td>12406.0</td>\n",
       "      <td>1.0</td>\n",
       "    </tr>\n",
       "    <tr>\n",
       "      <th>1993</th>\n",
       "      <td>15669.0</td>\n",
       "      <td>10.0</td>\n",
       "    </tr>\n",
       "    <tr>\n",
       "      <th>1994</th>\n",
       "      <td>18661.0</td>\n",
       "      <td>1.0</td>\n",
       "    </tr>\n",
       "    <tr>\n",
       "      <th>1995</th>\n",
       "      <td>25329.0</td>\n",
       "      <td>1.0</td>\n",
       "    </tr>\n",
       "    <tr>\n",
       "      <th>1996</th>\n",
       "      <td>28213.0</td>\n",
       "      <td>4.0</td>\n",
       "    </tr>\n",
       "    <tr>\n",
       "      <th>1997</th>\n",
       "      <td>43600.0</td>\n",
       "      <td>2.0</td>\n",
       "    </tr>\n",
       "    <tr>\n",
       "      <th>1998</th>\n",
       "      <td>55597.0</td>\n",
       "      <td>7.0</td>\n",
       "    </tr>\n",
       "    <tr>\n",
       "      <th>1999</th>\n",
       "      <td>66827.0</td>\n",
       "      <td>28.0</td>\n",
       "    </tr>\n",
       "    <tr>\n",
       "      <th>2000</th>\n",
       "      <td>90409.0</td>\n",
       "      <td>24.0</td>\n",
       "    </tr>\n",
       "    <tr>\n",
       "      <th>2001</th>\n",
       "      <td>102939.0</td>\n",
       "      <td>6.0</td>\n",
       "    </tr>\n",
       "    <tr>\n",
       "      <th>2002</th>\n",
       "      <td>108679.0</td>\n",
       "      <td>51.0</td>\n",
       "    </tr>\n",
       "    <tr>\n",
       "      <th>2003</th>\n",
       "      <td>120283.0</td>\n",
       "      <td>14.0</td>\n",
       "    </tr>\n",
       "    <tr>\n",
       "      <th>2004</th>\n",
       "      <td>132412.0</td>\n",
       "      <td>3.0</td>\n",
       "    </tr>\n",
       "    <tr>\n",
       "      <th>2005</th>\n",
       "      <td>153585.0</td>\n",
       "      <td>2.0</td>\n",
       "    </tr>\n",
       "    <tr>\n",
       "      <th>2006</th>\n",
       "      <td>166054.0</td>\n",
       "      <td>2.0</td>\n",
       "    </tr>\n",
       "    <tr>\n",
       "      <th>2007</th>\n",
       "      <td>181061.0</td>\n",
       "      <td>12.0</td>\n",
       "    </tr>\n",
       "    <tr>\n",
       "      <th>2008</th>\n",
       "      <td>154234.0</td>\n",
       "      <td>119.0</td>\n",
       "    </tr>\n",
       "    <tr>\n",
       "      <th>2009</th>\n",
       "      <td>118234.0</td>\n",
       "      <td>16.0</td>\n",
       "    </tr>\n",
       "    <tr>\n",
       "      <th>2010</th>\n",
       "      <td>144697.0</td>\n",
       "      <td>96.0</td>\n",
       "    </tr>\n",
       "    <tr>\n",
       "      <th>2011</th>\n",
       "      <td>148686.0</td>\n",
       "      <td>1153.0</td>\n",
       "    </tr>\n",
       "    <tr>\n",
       "      <th>2012</th>\n",
       "      <td>189707.0</td>\n",
       "      <td>1623.0</td>\n",
       "    </tr>\n",
       "    <tr>\n",
       "      <th>2013</th>\n",
       "      <td>242257.0</td>\n",
       "      <td>4590.0</td>\n",
       "    </tr>\n",
       "    <tr>\n",
       "      <th>2014</th>\n",
       "      <td>238823.0</td>\n",
       "      <td>4882.0</td>\n",
       "    </tr>\n",
       "    <tr>\n",
       "      <th>2015</th>\n",
       "      <td>285712.0</td>\n",
       "      <td>6669.0</td>\n",
       "    </tr>\n",
       "    <tr>\n",
       "      <th>2016</th>\n",
       "      <td>282033.0</td>\n",
       "      <td>9191.0</td>\n",
       "    </tr>\n",
       "    <tr>\n",
       "      <th>2017</th>\n",
       "      <td>293120.0</td>\n",
       "      <td>15012.0</td>\n",
       "    </tr>\n",
       "    <tr>\n",
       "      <th>2018</th>\n",
       "      <td>288070.0</td>\n",
       "      <td>37587.0</td>\n",
       "    </tr>\n",
       "    <tr>\n",
       "      <th>2019</th>\n",
       "      <td>266136.0</td>\n",
       "      <td>28655.0</td>\n",
       "    </tr>\n",
       "    <tr>\n",
       "      <th>2020</th>\n",
       "      <td>165661.0</td>\n",
       "      <td>20842.0</td>\n",
       "    </tr>\n",
       "    <tr>\n",
       "      <th>2021</th>\n",
       "      <td>3208.0</td>\n",
       "      <td>81.0</td>\n",
       "    </tr>\n",
       "  </tbody>\n",
       "</table>\n",
       "</div>"
      ],
      "text/plain": [
       "            ICE Population  EV Population\n",
       "Model Year                               \n",
       "1975               95018.0            8.0\n",
       "1976                1936.0            1.0\n",
       "1977                1831.0            1.0\n",
       "1978                2178.0            0.0\n",
       "1979                2341.0            0.0\n",
       "1980                1591.0            3.0\n",
       "1981                1850.0            0.0\n",
       "1982                2042.0            0.0\n",
       "1983                2557.0            0.0\n",
       "1984                3681.0            0.0\n",
       "1985                4756.0            0.0\n",
       "1986                6485.0            0.0\n",
       "1987                7078.0            0.0\n",
       "1988                7108.0            0.0\n",
       "1989                9192.0            1.0\n",
       "1990               11209.0            0.0\n",
       "1991               13895.0            0.0\n",
       "1992               12406.0            1.0\n",
       "1993               15669.0           10.0\n",
       "1994               18661.0            1.0\n",
       "1995               25329.0            1.0\n",
       "1996               28213.0            4.0\n",
       "1997               43600.0            2.0\n",
       "1998               55597.0            7.0\n",
       "1999               66827.0           28.0\n",
       "2000               90409.0           24.0\n",
       "2001              102939.0            6.0\n",
       "2002              108679.0           51.0\n",
       "2003              120283.0           14.0\n",
       "2004              132412.0            3.0\n",
       "2005              153585.0            2.0\n",
       "2006              166054.0            2.0\n",
       "2007              181061.0           12.0\n",
       "2008              154234.0          119.0\n",
       "2009              118234.0           16.0\n",
       "2010              144697.0           96.0\n",
       "2011              148686.0         1153.0\n",
       "2012              189707.0         1623.0\n",
       "2013              242257.0         4590.0\n",
       "2014              238823.0         4882.0\n",
       "2015              285712.0         6669.0\n",
       "2016              282033.0         9191.0\n",
       "2017              293120.0        15012.0\n",
       "2018              288070.0        37587.0\n",
       "2019              266136.0        28655.0\n",
       "2020              165661.0        20842.0\n",
       "2021                3208.0           81.0"
      ]
     },
     "execution_count": 106,
     "metadata": {},
     "output_type": "execute_result"
    }
   ],
   "source": [
    "evf = df.where(df['Fuel Type'] == 'Electric').dropna()\n",
    "evf = evf.where(evf['Model Year'] != 'Unknown').dropna()\n",
    "evf = evf.drop('Fuel Type', axis = 1)\n",
    "evf = evf.groupby(['Model Year']).sum()\n",
    "\n",
    "icef = df.where(df['Fuel Type'] == 'Gasoline').dropna()\n",
    "icef = icef.where(icef['Model Year'] != 'Unknown').dropna()\n",
    "icef = icef.drop('Fuel Type', axis = 1)\n",
    "icef = icef.groupby(['Model Year']).sum()\n",
    "\n",
    "\n",
    "icef = icef.rename(columns={\"Vehicle Population\": \"ICE Population\"})\n",
    "evf = evf.rename(columns={\"Vehicle Population\": \"EV Population\"})\n",
    "dfn = icef.merge(evf, how = 'outer',on='Model Year')\n",
    "dfn = dfn.fillna(0)\n",
    "dfn"
   ]
  },
  {
   "cell_type": "code",
   "execution_count": 107,
   "id": "3a92434c",
   "metadata": {},
   "outputs": [
    {
     "data": {
      "text/plain": [
       "413"
      ]
     },
     "execution_count": 107,
     "metadata": {},
     "output_type": "execute_result"
    }
   ],
   "source": [
    "len(np.append(EV_percent,sales_percentage[4:]))"
   ]
  },
  {
   "cell_type": "code",
   "execution_count": null,
   "id": "98901f2e",
   "metadata": {},
   "outputs": [],
   "source": []
  },
  {
   "cell_type": "code",
   "execution_count": 108,
   "id": "afdf80ae",
   "metadata": {},
   "outputs": [
    {
     "data": {
      "text/html": [
       "<div>\n",
       "<style scoped>\n",
       "    .dataframe tbody tr th:only-of-type {\n",
       "        vertical-align: middle;\n",
       "    }\n",
       "\n",
       "    .dataframe tbody tr th {\n",
       "        vertical-align: top;\n",
       "    }\n",
       "\n",
       "    .dataframe thead th {\n",
       "        text-align: right;\n",
       "    }\n",
       "</style>\n",
       "<table border=\"1\" class=\"dataframe\">\n",
       "  <thead>\n",
       "    <tr style=\"text-align: right;\">\n",
       "      <th></th>\n",
       "      <th>total_years</th>\n",
       "      <th>EV_percent</th>\n",
       "    </tr>\n",
       "  </thead>\n",
       "  <tbody>\n",
       "    <tr>\n",
       "      <th>0</th>\n",
       "      <td>1975</td>\n",
       "      <td>0.000084</td>\n",
       "    </tr>\n",
       "    <tr>\n",
       "      <th>1</th>\n",
       "      <td>1976</td>\n",
       "      <td>0.000516</td>\n",
       "    </tr>\n",
       "    <tr>\n",
       "      <th>2</th>\n",
       "      <td>1977</td>\n",
       "      <td>0.000546</td>\n",
       "    </tr>\n",
       "    <tr>\n",
       "      <th>3</th>\n",
       "      <td>1978</td>\n",
       "      <td>0.000000</td>\n",
       "    </tr>\n",
       "    <tr>\n",
       "      <th>4</th>\n",
       "      <td>1979</td>\n",
       "      <td>0.000000</td>\n",
       "    </tr>\n",
       "    <tr>\n",
       "      <th>...</th>\n",
       "      <td>...</td>\n",
       "      <td>...</td>\n",
       "    </tr>\n",
       "    <tr>\n",
       "      <th>56</th>\n",
       "      <td>2031</td>\n",
       "      <td>76.000000</td>\n",
       "    </tr>\n",
       "    <tr>\n",
       "      <th>57</th>\n",
       "      <td>2032</td>\n",
       "      <td>82.000000</td>\n",
       "    </tr>\n",
       "    <tr>\n",
       "      <th>58</th>\n",
       "      <td>2033</td>\n",
       "      <td>88.000000</td>\n",
       "    </tr>\n",
       "    <tr>\n",
       "      <th>59</th>\n",
       "      <td>2034</td>\n",
       "      <td>94.000000</td>\n",
       "    </tr>\n",
       "    <tr>\n",
       "      <th>60</th>\n",
       "      <td>2035</td>\n",
       "      <td>100.000000</td>\n",
       "    </tr>\n",
       "  </tbody>\n",
       "</table>\n",
       "<p>61 rows × 2 columns</p>\n",
       "</div>"
      ],
      "text/plain": [
       "    total_years  EV_percent\n",
       "0          1975    0.000084\n",
       "1          1976    0.000516\n",
       "2          1977    0.000546\n",
       "3          1978    0.000000\n",
       "4          1979    0.000000\n",
       "..          ...         ...\n",
       "56         2031   76.000000\n",
       "57         2032   82.000000\n",
       "58         2033   88.000000\n",
       "59         2034   94.000000\n",
       "60         2035  100.000000\n",
       "\n",
       "[61 rows x 2 columns]"
      ]
     },
     "execution_count": 108,
     "metadata": {},
     "output_type": "execute_result"
    }
   ],
   "source": [
    "total_years = np.array(range(1975,2036))\n",
    "EV_percent = np.array(dfn[\"EV Population\"]/(dfn[\"EV Population\"]+dfn[\"ICE Population\"]))\n",
    "EV_percent = np.append(EV_percent,sales_percentage[4:])\n",
    "percents = pd.DataFrame(data = {'total_years': total_years, 'EV_percent': EV_percent})\n",
    "percents"
   ]
  },
  {
   "cell_type": "code",
   "execution_count": 109,
   "id": "86a7f80a",
   "metadata": {},
   "outputs": [
    {
     "data": {
      "image/png": "[encoded data removed]",
      "text/plain": [
       "<Figure size 640x480 with 1 Axes>"
      ]
     },
     "metadata": {},
     "output_type": "display_data"
    }
   ],
   "source": [
    "\n",
    "plt.plot(percents['total_years'][35:60],percents['EV_percent'][35:60])\n",
    "plt.ylabel('Percent Electric')\n",
    "plt.xlabel('Model Year')\n",
    "plt.title('Percent of Electric Vehicles on the Road for Each Model Year')\n",
    "plt.show()"
   ]
  },
  {
   "cell_type": "code",
   "execution_count": null,
   "id": "af58d06f",
   "metadata": {},
   "outputs": [],
   "source": []
  },
  {
   "cell_type": "code",
   "execution_count": 31,
   "id": "598a9497",
   "metadata": {},
   "outputs": [
    {
     "data": {
      "text/plain": [
       "0.00010499376599514404"
      ]
     },
     "execution_count": 31,
     "metadata": {},
     "output_type": "execute_result"
    }
   ],
   "source": [
    "percents.iloc[0,1]"
   ]
  },
  {
   "cell_type": "code",
   "execution_count": 110,
   "id": "25ebca07",
   "metadata": {},
   "outputs": [
    {
     "data": {
      "text/plain": [
       "1882584.8713741102"
      ]
     },
     "execution_count": 110,
     "metadata": {},
     "output_type": "execute_result"
    }
   ],
   "source": [
    "pred_pop = []\n",
    "pred_EV = []\n",
    "for i in range(1960,2020):\n",
    "    pred_pop.append(model(i))\n",
    "    pred_EV.append(model(i)*(percents.iloc[i-1960,1])/100)\n",
    "sum(pred_EV)"
   ]
  },
  {
   "cell_type": "code",
   "execution_count": 115,
   "id": "40a1b8ac",
   "metadata": {},
   "outputs": [
    {
     "data": {
      "text/plain": [
       "124.97330398631294"
      ]
     },
     "execution_count": 115,
     "metadata": {},
     "output_type": "execute_result"
    }
   ],
   "source": [
    "pred_EV[60-16]"
   ]
  },
  {
   "cell_type": "code",
   "execution_count": 112,
   "id": "f2d1db8b",
   "metadata": {},
   "outputs": [
    {
     "data": {
      "text/plain": [
       "array([  2819.00578545,   2208.91551042,   1781.99064659,   1478.59688845,\n",
       "         1260.61207156,   1103.23685425,    990.17129376,    910.44931655,\n",
       "          856.81564243,    824.47841798,    810.41153349,    812.90627104,\n",
       "          831.30041495,    865.8293563 ,    917.56545118,    988.43422891,\n",
       "         1081.27754298,   1199.99522832,   1349.73089062,   1537.16801263,\n",
       "         1770.79653091,   2061.41415165,   2422.62726096,   2871.47606971,\n",
       "         3429.21741092,   4122.23781146,   4983.00917366,   6051.20908538,\n",
       "         7375.04343465,   9012.15472499,  11030.85593357,  13510.79029451,\n",
       "        16543.11094093,  20229.72773144,  24682.09894542,  30016.26049887,\n",
       "        36346.65554171,  43785.99145052,  52417.37753957,  62307.03092123,\n",
       "        73460.03346424,  85816.63344123,  99234.262597  , 113453.66761842,\n",
       "       128442.48527368, 143881.27577102, 159761.91996057, 144187.95236243,\n",
       "       148870.76702881, 151935.77280392, 153287.67313986, 152878.8272883 ,\n",
       "       141463.94575771, 127444.54120502, 111036.11696705,  89695.4320544 ,\n",
       "        69237.26436186,  53169.37183266,  36121.5497772 ,  18325.33434709])"
      ]
     },
     "execution_count": 112,
     "metadata": {},
     "output_type": "execute_result"
    }
   ],
   "source": [
    "np.subtract(pred_pop,pred_EV)"
   ]
  },
  {
   "cell_type": "code",
   "execution_count": 113,
   "id": "da33c62a",
   "metadata": {},
   "outputs": [
    {
     "data": {
      "image/png": "[encoded data removed]",
      "text/plain": [
       "<Figure size 640x480 with 1 Axes>"
      ]
     },
     "metadata": {},
     "output_type": "display_data"
    }
   ],
   "source": [
    "\n",
    "plt.figure()\n",
    "plt.plot(np.arange(1975,2035),pred_EV)\n",
    "#plt.plot(np.arange(1975,2035),pred_pop)\n",
    "plt.plot(np.arange(1975,2035),np.subtract(pred_pop,pred_EV))\n",
    "plt.ylabel('Number of Vehicles')\n",
    "plt.xlabel('Model Year')\n",
    "plt.title('Number of Vehicles on the Road From Each Model Year')\n",
    "plt.legend(['Electric', 'Combustion'])\n",
    "plt.show()"
   ]
  },
  {
   "cell_type": "code",
   "execution_count": null,
   "id": "b5a1cb17",
   "metadata": {},
   "outputs": [],
   "source": []
  },
  {
   "cell_type": "code",
   "execution_count": 34,
   "id": "857a391a",
   "metadata": {},
   "outputs": [
    {
     "data": {
      "text/plain": [
       "2854482.0793385273"
      ]
     },
     "execution_count": 34,
     "metadata": {},
     "output_type": "execute_result"
    }
   ],
   "source": [
    "sum(pred_pop)"
   ]
  },
  {
   "cell_type": "code",
   "execution_count": 116,
   "id": "12ce4a98",
   "metadata": {},
   "outputs": [
    {
     "data": {
      "text/plain": [
       "0.4217366135393132"
      ]
     },
     "execution_count": 116,
     "metadata": {},
     "output_type": "execute_result"
    }
   ],
   "source": [
    "percent_EV_2035 = sum(pred_EV)/sum(pred_pop)\n",
    "percent_EV_2035"
   ]
  },
  {
   "cell_type": "code",
   "execution_count": 42,
   "id": "5a5daddc",
   "metadata": {},
   "outputs": [
    {
     "data": {
      "text/plain": [
       "83605532.32989442"
      ]
     },
     "execution_count": 42,
     "metadata": {},
     "output_type": "execute_result"
    }
   ],
   "source": [
    "198000000*percent_EV_2035"
   ]
  },
  {
   "cell_type": "code",
   "execution_count": null,
   "id": "2d986c08",
   "metadata": {},
   "outputs": [],
   "source": []
  },
  {
   "cell_type": "code",
   "execution_count": null,
   "id": "345ee4ef",
   "metadata": {},
   "outputs": [],
   "source": []
  },
  {
   "cell_type": "code",
   "execution_count": null,
   "id": "cd840b5c",
   "metadata": {},
   "outputs": [],
   "source": []
  },
  {
   "cell_type": "code",
   "execution_count": null,
   "id": "53e1187a",
   "metadata": {},
   "outputs": [],
   "source": []
  },
  {
   "cell_type": "code",
   "execution_count": 35,
   "id": "249b3628",
   "metadata": {},
   "outputs": [
    {
     "data": {
      "text/plain": [
       "191786.73266716275"
      ]
     },
     "execution_count": 35,
     "metadata": {},
     "output_type": "execute_result"
    }
   ],
   "source": [
    "model(2019)"
   ]
  },
  {
   "cell_type": "code",
   "execution_count": 36,
   "id": "65409674",
   "metadata": {},
   "outputs": [
    {
     "ename": "IndentationError",
     "evalue": "expected an indented block (996345401.py, line 9)",
     "output_type": "error",
     "traceback": [
      "\u001b[0;36m  Cell \u001b[0;32mIn [36], line 9\u001b[0;36m\u001b[0m\n\u001b[0;31m    \u001b[0m\n\u001b[0m    ^\u001b[0m\n\u001b[0;31mIndentationError\u001b[0m\u001b[0;31m:\u001b[0m expected an indented block\n"
     ]
    }
   ],
   "source": [
    "predictions = dfn.copy()\n",
    "start_year = 2019\n",
    "end_year = 2035\n",
    "years = range(start_year, end_year+1)\n",
    "num_vehicles = np.ones(len(years))*sum(times['Vehicle Population'])\n",
    "\n",
    "for i in years:\n",
    "    for j in range(1960,2020):\n",
    "        "
   ]
  },
  {
   "cell_type": "code",
   "execution_count": 37,
   "id": "6971ccb4",
   "metadata": {},
   "outputs": [
    {
     "data": {
      "text/plain": [
       "0.42105263157894735"
      ]
     },
     "execution_count": 37,
     "metadata": {},
     "output_type": "execute_result"
    }
   ],
   "source": [
    "120/285"
   ]
  },
  {
   "cell_type": "code",
   "execution_count": 38,
   "id": "8fc31f93",
   "metadata": {},
   "outputs": [
    {
     "data": {
      "text/plain": [
       "71.39999999999999"
      ]
     },
     "execution_count": 38,
     "metadata": {},
     "output_type": "execute_result"
    }
   ],
   "source": [
    "170*0.42"
   ]
  },
  {
   "cell_type": "code",
   "execution_count": null,
   "id": "6232636b",
   "metadata": {},
   "outputs": [],
   "source": []
  },
  {
   "cell_type": "code",
   "execution_count": null,
   "id": "b80afd11",
   "metadata": {},
   "outputs": [],
   "source": []
  },
  {
   "cell_type": "code",
   "execution_count": null,
   "id": "86682059",
   "metadata": {},
   "outputs": [],
   "source": []
  },
  {
   "cell_type": "code",
   "execution_count": null,
   "id": "054c0a31",
   "metadata": {},
   "outputs": [],
   "source": []
  },
  {
   "cell_type": "code",
   "execution_count": 39,
   "id": "4d15a20d",
   "metadata": {},
   "outputs": [
    {
     "data": {
      "text/plain": [
       "13158984.115757229"
      ]
     },
     "execution_count": 39,
     "metadata": {},
     "output_type": "execute_result"
    }
   ],
   "source": [
    "EVs = totals['Vehicle Population'][0] + totals['Vehicle Population'][2]\n",
    "ev_retire_rate = 0.05\n",
    "total_sales = 2000000\n",
    "EVs = totals['Vehicle Population'][0] + totals['Vehicle Population'][2]\n",
    "for i in range(0, 18):\n",
    "    EVs = EVs - (EVs*ev_retire_rate) + (total_sales * sales_percentage[i]/100)\n",
    "EVs"
   ]
  },
  {
   "cell_type": "code",
   "execution_count": null,
   "id": "6dd80200",
   "metadata": {},
   "outputs": [],
   "source": []
  },
  {
   "cell_type": "code",
   "execution_count": null,
   "id": "b656accd",
   "metadata": {},
   "outputs": [],
   "source": []
  },
  {
   "cell_type": "code",
   "execution_count": null,
   "id": "ea329646",
   "metadata": {},
   "outputs": [],
   "source": []
  }
 ],
 "metadata": {
  "kernelspec": {
   "display_name": "Python 3 (ipykernel)",
   "language": "python",
   "name": "python3"
  },
  "language_info": {
   "codemirror_mode": {
    "name": "ipython",
    "version": 3
   },
   "file_extension": ".py",
   "mimetype": "text/x-python",
   "name": "python",
   "nbconvert_exporter": "python",
   "pygments_lexer": "ipython3",
   "version": "3.9.13"
  }
 },
 "nbformat": 4,
 "nbformat_minor": 5
}
